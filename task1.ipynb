{
 "cells": [
  {
   "cell_type": "code",
   "execution_count": 1,
   "metadata": {},
   "outputs": [
    {
     "name": "stdout",
     "output_type": "stream",
     "text": [
      "our input faea8766efd8b295a633908a3c0828b22640e1e9122c3c9cfb7b59b7cf3c9d448bf04d72cde3aaa0\n",
      "hex string b'\\xfa\\xea\\x87f\\xef\\xd8\\xb2\\x95\\xa63\\x90\\x8a<\\x08(\\xb2&@\\xe1\\xe9\\x12,<\\x9c\\xfb{Y\\xb7\\xcf<\\x9dD\\x8b\\xf0Mr\\xcd\\xe3\\xaa\\xa0'\n",
      "after encoding +uqHZu/YspWmM5CKPAgosiZA4ekSLDyc+3tZt888nUSL8E1yzeOqoA==\n",
      "\n"
     ]
    }
   ],
   "source": [
    "input = 'faea8766efd8b295a633908a3c0828b22640e1e9122c3c9cfb7b59b7cf3c9d448bf04d72cde3aaa0'\n",
    "print(\"our input\",input)\n",
    "import codecs\n",
    "hex0 = codecs.decode(input, 'hex')\n",
    "print(\"hex string\",hex0) #Выполнили кодирование в 16-ое представление для работы с функциями python \n",
    "b64 = codecs.encode(hex0, 'base64')\n",
    "print(\"after encoding\",b64.decode()) # результат \n"
   ]
  },
  {
   "cell_type": "code",
   "execution_count": null,
   "metadata": {},
   "outputs": [],
   "source": []
  }
 ],
 "metadata": {
  "kernelspec": {
   "display_name": "Python 3",
   "language": "python",
   "name": "python3"
  },
  "language_info": {
   "codemirror_mode": {
    "name": "ipython",
    "version": 3
   },
   "file_extension": ".py",
   "mimetype": "text/x-python",
   "name": "python",
   "nbconvert_exporter": "python",
   "pygments_lexer": "ipython3",
   "version": "3.5.2"
  }
 },
 "nbformat": 4,
 "nbformat_minor": 2
}
