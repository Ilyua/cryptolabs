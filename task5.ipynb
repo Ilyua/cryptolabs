{
 "cells": [
  {
   "cell_type": "code",
   "execution_count": 22,
   "metadata": {},
   "outputs": [
    {
     "data": {
      "text/plain": [
       "'0726332c31653d312a3c21292c63242b2c303d63313b2c302b2f2069362b3d2a296937372636272526653d312a3c21292c3065302c3068'"
      ]
     },
     "execution_count": 22,
     "metadata": {},
     "output_type": "execute_result"
    }
   ],
   "source": [
    "import itertools\n",
    "import codecs\n",
    "\n",
    "\n",
    "\n",
    "text = \"Never trouble about trouble until trouble troubles you!\"\n",
    "key = \"ICE\"\n",
    "res = xor_repeat_key(text, key)\n",
    "\n",
    "# codecs.decode(bytes(res,'utf-8'),'hex')\n",
    "bytes(res,'utf-8').hex()\n"
   ]
  },
  {
   "cell_type": "code",
   "execution_count": null,
   "metadata": {},
   "outputs": [],
   "source": []
  }
 ],
 "metadata": {
  "kernelspec": {
   "display_name": "Python 3",
   "language": "python",
   "name": "python3"
  },
  "language_info": {
   "codemirror_mode": {
    "name": "ipython",
    "version": 3
   },
   "file_extension": ".py",
   "mimetype": "text/x-python",
   "name": "python",
   "nbconvert_exporter": "python",
   "pygments_lexer": "ipython3",
   "version": "3.5.2"
  }
 },
 "nbformat": 4,
 "nbformat_minor": 2
}
