{
 "cells": [
  {
   "cell_type": "code",
   "execution_count": 1,
   "metadata": {},
   "outputs": [
    {
     "name": "stdout",
     "output_type": "stream",
     "text": [
      "faea8766efd8b295a633908a3c0828b22640e1e9122c3c9cfb7b59b7cf3c9d448bf04d72cde3aaa0\n",
      "b'\\xfa\\xea\\x87f\\xef\\xd8\\xb2\\x95\\xa63\\x90\\x8a<\\x08(\\xb2&@\\xe1\\xe9\\x12,<\\x9c\\xfb{Y\\xb7\\xcf<\\x9dD\\x8b\\xf0Mr\\xcd\\xe3\\xaa\\xa0'\n",
      "+uqHZu/YspWmM5CKPAgosiZA4ekSLDyc+3tZt888nUSL8E1yzeOqoA==\n",
      "\n"
     ]
    }
   ],
   "source": [
    "input = 'faea8766efd8b295a633908a3c0828b22640e1e9122c3c9cfb7b59b7cf3c9d448bf04d72cde3aaa0'\n",
    "print(input)\n",
    "import codecs\n",
    "hex0 = codecs.decode(input, 'hex')\n",
    "print(hex0) #Выполнили кодирование в 16-ое представление для работы с функциями python строка байт \n",
    "b64 = codecs.encode(hex0, 'base64')\n",
    "print(b64.decode()) # результат \n",
    "\n"
   ]
  },
  {
   "cell_type": "code",
   "execution_count": 45,
   "metadata": {},
   "outputs": [
    {
     "name": "stdout",
     "output_type": "stream",
     "text": [
      "[48, 80, 81, 204, 154, 124, 193, 170, 133, 118, 221, 151, 206, 74, 180, 172, 135, 106, 245, 151, 11, 125, 98, 197, 61, 73, 89, 133, 230, 10, 146, 155, 253, 115, 157, 237, 45, 101, 203, 15]\n",
      "['0x30', '0x50', '0x51', '0xcc', '0x9a', '0x7c', '0xc1', '0xaa', '0x85', '0x76', '0xdd', '0x97', '0xce', '0x4a', '0xb4', '0xac', '0x87', '0x6a', '0xf5', '0x97', '0xb', '0x7d', '0x62', '0xc5', '0x3d', '0x49', '0x59', '0x85', '0xe6', '0xa', '0x92', '0x9b', '0xfd', '0x73', '0x9d', '0xed', '0x2d', '0x65', '0xcb', '0xf']\n"
     ]
    },
    {
     "data": {
      "text/plain": [
       "'305051cc9a7cc1aa8576dd97ce4ab4ac876af5970b7d62c53d495985e60a929bfd739ded2d65cb0f'"
      ]
     },
     "execution_count": 45,
     "metadata": {},
     "output_type": "execute_result"
    }
   ],
   "source": [
    "def x_or(buf1,buf2):\n",
    "    res= []\n",
    "    \n",
    "    for i,j in zip(buf1,buf2):\n",
    "        res.append(i^j)\n",
    "    return res \n",
    "x_or([0,2,3],[1,2,3])\n",
    "str1 = '8f29336f5e9af0919634f474d248addaf89f6e1f533752f52de2dae0ec3185f818c0892fdc873a69'\n",
    "str2 = 'bf7962a3c4e6313b134229e31c0219767ff59b88584a303010ab83650a3b1763e5b314c2f1e2f166'\n",
    "hex1 = bytearray.fromhex(str1)\n",
    "hex2 = bytearray.fromhex(str2)\n",
    "arr =x_or(hex1,hex2)\n",
    "print(arr)\n",
    "print(list(map(hex,arr)))\n",
    "bytes(arr).hex()"
   ]
  },
  {
   "cell_type": "code",
   "execution_count": null,
   "metadata": {},
   "outputs": [],
   "source": []
  }
 ],
 "metadata": {
  "kernelspec": {
   "display_name": "Python 3",
   "language": "python",
   "name": "python3"
  },
  "language_info": {
   "codemirror_mode": {
    "name": "ipython",
    "version": 3
   },
   "file_extension": ".py",
   "mimetype": "text/x-python",
   "name": "python",
   "nbconvert_exporter": "python",
   "pygments_lexer": "ipython3",
   "version": "3.5.2"
  }
 },
 "nbformat": 4,
 "nbformat_minor": 2
}
