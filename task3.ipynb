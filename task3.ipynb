{
 "cells": [
  {
   "cell_type": "code",
   "execution_count": 71,
   "metadata": {},
   "outputs": [],
   "source": [
    "import string as st\n",
    "\n",
    "\n",
    "\n",
    "\n",
    "keys = st.ascii_lowercase\n",
    "string = '191f1911160b0c580c101d581d0e1114583f1914191b0c111b583d1508110a1d56'\n",
    "hex_str = bytearray.fromhex(string)\n",
    "\n",
    "def xor_one(char, bytess):\n",
    "    arr=''\n",
    "    for i in bytess:\n",
    "        arr+=(chr(ord(char)^i))\n",
    "    return arr\n",
    "def is_eng_text(text,lim=90):\n",
    "    if not all(word in st.printable for word in text):\n",
    "        return False\n",
    "    \n",
    "   \n",
    "    try:\n",
    "        estimate=(len([x for x in text if x.lower() in st.ascii_lowercase ])/len(text))*100  \n",
    "    except:\n",
    "        estimate = 0\n",
    "    \n",
    "    if estimate>lim:\n",
    "        return True\n",
    "    else:\n",
    "        return False"
   ]
  },
  {
   "cell_type": "code",
   "execution_count": 80,
   "metadata": {},
   "outputs": [],
   "source": []
  },
  {
   "cell_type": "code",
   "execution_count": 89,
   "metadata": {},
   "outputs": [
    {
     "name": "stdout",
     "output_type": "stream",
     "text": [
      "['x----against the evil Galactic Empire.', 'z----cecklqv\"vjg\"gtkn\"Ecncavka\"Gorkpg,']\n"
     ]
    }
   ],
   "source": [
    "l =100\n",
    "while len(brute_xor_one(string,limit=l))==0:\n",
    "    l = l-1\n",
    "print(brute_xor_one(string,limit=l))    \n",
    " "
   ]
  },
  {
   "cell_type": "code",
   "execution_count": null,
   "metadata": {},
   "outputs": [],
   "source": []
  },
  {
   "cell_type": "code",
   "execution_count": null,
   "metadata": {},
   "outputs": [],
   "source": []
  }
 ],
 "metadata": {
  "kernelspec": {
   "display_name": "Python 3",
   "language": "python",
   "name": "python3"
  },
  "language_info": {
   "codemirror_mode": {
    "name": "ipython",
    "version": 3
   },
   "file_extension": ".py",
   "mimetype": "text/x-python",
   "name": "python",
   "nbconvert_exporter": "python",
   "pygments_lexer": "ipython3",
   "version": "3.5.2"
  }
 },
 "nbformat": 4,
 "nbformat_minor": 2
}
