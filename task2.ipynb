{
 "cells": [
  {
   "cell_type": "code",
   "execution_count": 1,
   "metadata": {},
   "outputs": [
    {
     "name": "stdout",
     "output_type": "stream",
     "text": [
      "305051cc9a7cc1aa8576dd97ce4ab4ac876af5970b7d62c53d495985e60a929bfd739ded2d65cb0f\n"
     ]
    }
   ],
   "source": [
    "def xor(buf1,buf2):\n",
    "    res= []\n",
    "    hex1 = bytearray.fromhex(buf1) # получили массив байт в 16-чном представлении\n",
    "    hex2 = bytearray.fromhex(buf2)\n",
    "    for i,j in zip(hex1,hex2):\n",
    "        res.append(i^j)\n",
    "    return bytes(res).hex()#после xor  массив десятичных чисел, поэтому их нужно перевести в 16ричную систему\n",
    "\n",
    "# bytes - получение массива байт из массива десятичных чисел (0-255)\n",
    "# hex - получить 16 ричную строку - представление массива байт\n",
    "str1 = '8f29336f5e9af0919634f474d248addaf89f6e1f533752f52de2dae0ec3185f818c0892fdc873a69'\n",
    "str2 = 'bf7962a3c4e6313b134229e31c0219767ff59b88584a303010ab83650a3b1763e5b314c2f1e2f166'\n",
    "\n",
    "\n",
    "arr =xor(str1,str2) \n",
    "print(arr)"
   ]
  },
  {
   "cell_type": "code",
   "execution_count": null,
   "metadata": {},
   "outputs": [],
   "source": [
    "|"
   ]
  }
 ],
 "metadata": {
  "kernelspec": {
   "display_name": "Python 3",
   "language": "python",
   "name": "python3"
  },
  "language_info": {
   "codemirror_mode": {
    "name": "ipython",
    "version": 3
   },
   "file_extension": ".py",
   "mimetype": "text/x-python",
   "name": "python",
   "nbconvert_exporter": "python",
   "pygments_lexer": "ipython3",
   "version": "3.5.2"
  }
 },
 "nbformat": 4,
 "nbformat_minor": 2
}
