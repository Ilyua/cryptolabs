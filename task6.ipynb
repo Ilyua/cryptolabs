{
 "cells": [
  {
   "cell_type": "code",
   "execution_count": 5,
   "metadata": {},
   "outputs": [],
   "source": [
    "from itertools import cycle\n",
    "import codecs\n",
    "import string as st\n",
    "\n",
    "# def xor_repeat_key(text, key):\n",
    "#     return \"\".join([chr(ord(c1) ^ ord(c2)) for c1, c2 in zip(text, cycle(key))])\n",
    "\n",
    "def xor_one(char, bytess):\n",
    "    res=bytearray()\n",
    "    for i in bytess:\n",
    "        res.append(((ord(char)^i)))\n",
    "    return res\n",
    "\n",
    "def is_eng_text(text,lim):\n",
    "#     if not all([word in st.printable for word in text]):\n",
    "#         return False\n",
    "    try:\n",
    "        estimate=(len([x for x in text if x.lower() in st.ascii_lowercase ])/len(text))*100  \n",
    "    except:\n",
    "        estimate = 0\n",
    "    \n",
    "    if estimate>lim:\n",
    "        return True\n",
    "    else:\n",
    "        return False\n",
    "\n",
    "def brute_xor_one(string,limit=90):\n",
    "    hex_str = string.encode('ascii')\n",
    "    score=0\n",
    "    m=0\n",
    "    k=''\n",
    "    for key in st.ascii_letters:\n",
    "        decoded = xor_one(key,hex_str).decode('ascii')\n",
    "        score = len([x for x in decoded if x.lower() in st.ascii_lowercase ])/len(decoded)*100 \n",
    "        if score>m:\n",
    "            k=key\n",
    "            m=score\n",
    "    return xor_one(k,hex_str).decode('ascii')\n",
    "\n",
    "            \n",
    "def get_i_string(k,data,i):\n",
    "    res='' \n",
    "    for d,s in enumerate(data):\n",
    "        if d % k == i:\n",
    "            res+=s    \n",
    "    return res \n",
    "\n",
    "def merge_strings(strings,k):\n",
    "    result=''\n",
    "    \n",
    "    for i in cycle(range(k)):\n",
    "\n",
    "        if all([x =='' for x in strings]):\n",
    "            break\n",
    "        try:\n",
    "            result+=strings[i][:1]\n",
    "            strings[i]=strings[i][1:]\n",
    "        except:\n",
    "            strings[i]=''\n",
    "   \n",
    "    return result\n",
    "    \n",
    "    "
   ]
  },
  {
   "cell_type": "code",
   "execution_count": 20,
   "metadata": {},
   "outputs": [
    {
     "name": "stdout",
     "output_type": "stream",
     "text": [
      "CPU times: user 42.1 ms, sys: 0 ns, total: 42.1 ms\n",
      "Wall time: 42.6 ms\n"
     ]
    }
   ],
   "source": [
    "%%time\n",
    "with codecs.open(\"Lab0_app/Lab0_Tasks/breakRepeatedKeyXor.txt\",\"r\",\"base64\") as file:\n",
    "    data = file.read().rstrip().decode('ascii')\n",
    "    \n",
    "    for k in range(39,41):\n",
    "        \n",
    "        strings = []\n",
    "        for i in range(k):\n",
    "            strings.append(get_i_string(k,data,i))\n",
    "\n",
    "        decoded =[]\n",
    "        for string  in strings:\n",
    "            decoded.append(brute_xor_one(string))\n",
    "        if not all([is_eng_text(s,0) for s in decoded]):\n",
    "            break\n",
    "        else:   \n",
    "            print(\"NUMBER K={key}\".format(key=k)+'#'*20+'\\n')\n",
    "            print(merge_strings(decoded,k))\n",
    "\n",
    "        "
   ]
  },
  {
   "cell_type": "code",
   "execution_count": null,
   "metadata": {},
   "outputs": [],
   "source": []
  },
  {
   "cell_type": "code",
   "execution_count": null,
   "metadata": {},
   "outputs": [],
   "source": []
  },
  {
   "cell_type": "code",
   "execution_count": null,
   "metadata": {},
   "outputs": [],
   "source": []
  },
  {
   "cell_type": "code",
   "execution_count": null,
   "metadata": {},
   "outputs": [],
   "source": []
  },
  {
   "cell_type": "code",
   "execution_count": null,
   "metadata": {},
   "outputs": [],
   "source": []
  },
  {
   "cell_type": "code",
   "execution_count": null,
   "metadata": {},
   "outputs": [],
   "source": []
  },
  {
   "cell_type": "code",
   "execution_count": null,
   "metadata": {},
   "outputs": [],
   "source": []
  },
  {
   "cell_type": "code",
   "execution_count": 26,
   "metadata": {},
   "outputs": [
    {
     "name": "stdout",
     "output_type": "stream",
     "text": [
      "NUMBER K=1####################\n",
      "\n",
      "against the evil Galactic Empire.\n"
     ]
    }
   ],
   "source": [
    "# data=bytearray().fromhex('191f1911160b0c580c101d581d0e1114583f1914191b0c111b583d1508110a1d56')\n",
    "# data = data.decode('ascii')\n",
    "# k=1\n",
    "# strings = []\n",
    "# for i in range(k):\n",
    "#     strings.append(get_i_string(k,data,i))\n",
    "\n",
    "# decoded =[]\n",
    "# for string  in strings:\n",
    "#     decoded.append(brute_xor_one(string,limit=60))\n",
    "\n",
    "# if None not in decoded:   \n",
    "#     print(\"NUMBER K={key}\".format(key=k)+'#'*20+'\\n')\n",
    "#     print(merge_strings(decoded,k))"
   ]
  },
  {
   "cell_type": "code",
   "execution_count": 23,
   "metadata": {},
   "outputs": [
    {
     "name": "stdout",
     "output_type": "stream",
     "text": [
      "g\n",
      "gt\n",
      "gtG\n",
      "gtGa\n",
      "gtGah\n",
      "gtGaha\n",
      "gtGahai\n",
      "gtGahaie\n",
      "gtGahaiel\n",
      "gtGahaieln\n",
      "gtGahaieln\n",
      "gtGahaielna\n",
      "gtGahaielnas\n",
      "gtGahaielnas\n",
      "gtGahaielnasc\n",
      "gtGahaielnasct\n",
      "gtGahaielnasct\n",
      "gtGahaielnasctt\n",
      "gtGahaielnasctt \n",
      "gtGahaielnasctt \n",
      "gtGahaielnasctt i\n",
      "gtGahaielnasctt i\n",
      "gtGahaielnasctt i\n",
      "gtGahaielnasctt ic\n"
     ]
    }
   ],
   "source": [
    "# import time\n",
    "# k=3\n",
    "# strings = ['gainst ','the','Galactic']\n",
    "# result=''\n",
    "# for i in cycle(range(k)):\n",
    "\n",
    "#     if all([x =='' for x in strings]):\n",
    "#         break\n",
    "#     try:\n",
    "#         result+=strings[i][:1]\n",
    "#         strings[i]=strings[i][1:]\n",
    "#     except:\n",
    "#         strings[i]=''\n",
    "#     time.sleep(1) \n",
    "#     print(result)\n",
    "        "
   ]
  },
  {
   "cell_type": "code",
   "execution_count": null,
   "metadata": {},
   "outputs": [],
   "source": []
  },
  {
   "cell_type": "code",
   "execution_count": null,
   "metadata": {},
   "outputs": [],
   "source": []
  }
 ],
 "metadata": {
  "kernelspec": {
   "display_name": "Python 3",
   "language": "python",
   "name": "python3"
  },
  "language_info": {
   "codemirror_mode": {
    "name": "ipython",
    "version": 3
   },
   "file_extension": ".py",
   "mimetype": "text/x-python",
   "name": "python",
   "nbconvert_exporter": "python",
   "pygments_lexer": "ipython3",
   "version": "3.5.2"
  }
 },
 "nbformat": 4,
 "nbformat_minor": 2
}
