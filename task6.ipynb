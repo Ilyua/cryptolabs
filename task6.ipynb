{
 "cells": [
  {
   "cell_type": "code",
   "execution_count": 9,
   "metadata": {},
   "outputs": [],
   "source": [
    "from itertools import cycle\n",
    "import codecs\n",
    "def xor_repeat_key(text, key):\n",
    "    return \"\".join([chr(ord(c1) ^ ord(c2)) for c1, c2 in zip(text, cycle(key))])\n"
   ]
  },
  {
   "cell_type": "code",
   "execution_count": 10,
   "metadata": {},
   "outputs": [],
   "source": [
    "import string as st\n",
    "\n",
    "\n",
    "def single_xor_decode(string, skip_len):\n",
    "\n",
    "    cur_best = 0\n",
    "    cur_best_key = 0\n",
    "    for i in range(256):\n",
    "        c = \"%x\" % (int(string, 16) ^ int((hex(i)[2:]) * len(string), 16))\n",
    "        if len(c) % 2 != 0:\n",
    "            c = \"0\" + c\n",
    "        c = c.decode(\"hex\")[skip_len:]\n",
    "        if not all(word in printable for word in c):\n",
    "            continue\n",
    "        if score(c) > cur_best:\n",
    "            cur_best = score(c)\n",
    "            cur_best_key = i\n",
    "    return chr(cur_best_key)\n",
    "\n",
    "\n",
    "\n"
   ]
  },
  {
   "cell_type": "code",
   "execution_count": null,
   "metadata": {},
   "outputs": [],
   "source": []
  },
  {
   "cell_type": "code",
   "execution_count": 79,
   "metadata": {},
   "outputs": [],
   "source": [
    "def get_i_string(k,data,i):\n",
    "    res=bytearray()\n",
    "    \n",
    "    for d,s in enumerate(data):\n",
    "        if d % k == i:\n",
    "            res.append(s)\n",
    "    \n",
    "    return res    \n",
    "        "
   ]
  },
  {
   "cell_type": "code",
   "execution_count": 81,
   "metadata": {},
   "outputs": [],
   "source": [
    "import string as st\n",
    "\n",
    "\n",
    "# freq = [ 8.167, 1.492, 2.782, 4.253, \n",
    "#         12.702, 2.228, 2.015, 6.094, \n",
    "#         6.966, 0.153, 0.772, 4.025, \n",
    "#         2.406, 6.749, 7.507, 1.929, \n",
    "#         0.095, 5.987, 6.327, 9.056, \n",
    "#         2.758, 0.978, 2.360, 0.150, \n",
    "#         1.974, 0.074 ]\n",
    "# true_freq = {x:y for x,y in zip(st.ascii_lowercase,freq)}\n",
    "\n",
    "# keys = st.ascii_lowercase\n",
    "# string = '191f1911160b0c580c101d581d0e1114583f1914191b0c111b583d1508110a1d56'\n",
    "# hex_str = bytearray.fromhex(string)\n",
    "\n",
    "def xor_one(char, bytess):\n",
    "    arr=''\n",
    "    for i in bytess:\n",
    "        arr+=(chr(ord(char)^i))\n",
    "    return arr\n",
    "def is_eng_text(text,lim=90):\n",
    "    if not all(word in st.printable for word in text):\n",
    "        \n",
    "        return False\n",
    "    \n",
    "   \n",
    "    try:\n",
    "        estimate=(len([x for x in text if x.lower() in st.ascii_lowercase ])/len(text))*100  \n",
    "    except:\n",
    "        estimate = 0\n",
    "    \n",
    "    if estimate>lim:\n",
    "        return True\n",
    "    else:\n",
    "        return False"
   ]
  },
  {
   "cell_type": "code",
   "execution_count": 105,
   "metadata": {},
   "outputs": [],
   "source": [
    "def brute_xor_one(string,limit=0):\n",
    "    arr =[]\n",
    "    \n",
    "    hex_str = string\n",
    "    for key in st.ascii_letters:\n",
    "        decoded = xor_one(key,hex_str)\n",
    "        if (is_eng_text(decoded,lim=limit)):\n",
    "            arr.append(key+'----'+decoded)\n",
    "    return arr"
   ]
  },
  {
   "cell_type": "code",
   "execution_count": 106,
   "metadata": {},
   "outputs": [
    {
     "name": "stdout",
     "output_type": "stream",
     "text": [
      "[]\n",
      "[]\n",
      "[]\n"
     ]
    }
   ],
   "source": [
    "with codecs.open(\"Lab0_app/Lab0_Tasks/breakRepeatedKeyXor.txt\",\"r\",\"base64\") as file:\n",
    "    data = file.read().rstrip()\n",
    "    k = 3\n",
    "    strings = []\n",
    "    for i,s in enumerate([ '' for x in range(k)]):\n",
    "        strings.append(get_i_string(k,data,i))\n",
    "    \n",
    "    for string in strings:\n",
    "        \n",
    "        print(brute_xor_one(string))\n",
    "        \n",
    "        "
   ]
  },
  {
   "cell_type": "code",
   "execution_count": null,
   "metadata": {},
   "outputs": [],
   "source": []
  },
  {
   "cell_type": "code",
   "execution_count": null,
   "metadata": {},
   "outputs": [],
   "source": []
  }
 ],
 "metadata": {
  "kernelspec": {
   "display_name": "Python 3",
   "language": "python",
   "name": "python3"
  },
  "language_info": {
   "codemirror_mode": {
    "name": "ipython",
    "version": 3
   },
   "file_extension": ".py",
   "mimetype": "text/x-python",
   "name": "python",
   "nbconvert_exporter": "python",
   "pygments_lexer": "ipython3",
   "version": "3.5.2"
  }
 },
 "nbformat": 4,
 "nbformat_minor": 2
}
