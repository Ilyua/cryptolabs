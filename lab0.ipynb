{
 "cells": [
  {
   "cell_type": "markdown",
   "metadata": {},
   "source": [
    "### Task 1"
   ]
  },
  {
   "cell_type": "code",
   "execution_count": 1,
   "metadata": {},
   "outputs": [
    {
     "name": "stdout",
     "output_type": "stream",
     "text": [
      "our input faea8766efd8b295a633908a3c0828b22640e1e9122c3c9cfb7b59b7cf3c9d448bf04d72cde3aaa0\n",
      "hex string b'\\xfa\\xea\\x87f\\xef\\xd8\\xb2\\x95\\xa63\\x90\\x8a<\\x08(\\xb2&@\\xe1\\xe9\\x12,<\\x9c\\xfb{Y\\xb7\\xcf<\\x9dD\\x8b\\xf0Mr\\xcd\\xe3\\xaa\\xa0'\n",
      "after encoding +uqHZu/YspWmM5CKPAgosiZA4ekSLDyc+3tZt888nUSL8E1yzeOqoA==\n",
      "\n"
     ]
    }
   ],
   "source": [
    "input = 'faea8766efd8b295a633908a3c0828b22640e1e9122c3c9cfb7b59b7cf3c9d448bf04d72cde3aaa0'\n",
    "print(\"our input\",input)\n",
    "import codecs\n",
    "hex0 = codecs.decode(input, 'hex')\n",
    "print(\"hex string\",hex0) #Выполнили кодирование в 16-ое представление для работы с функциями python \n",
    "b64 = codecs.encode(hex0, 'base64')\n",
    "print(\"after encoding\",b64.decode()) # результат \n",
    "\n"
   ]
  },
  {
   "cell_type": "markdown",
   "metadata": {},
   "source": [
    "### Task 2"
   ]
  },
  {
   "cell_type": "code",
   "execution_count": 2,
   "metadata": {},
   "outputs": [
    {
     "name": "stdout",
     "output_type": "stream",
     "text": [
      "305051cc9a7cc1aa8576dd97ce4ab4ac876af5970b7d62c53d495985e60a929bfd739ded2d65cb0f\n"
     ]
    }
   ],
   "source": [
    "def xor(buf1,buf2):\n",
    "    res= []\n",
    "    hex1 = bytearray.fromhex(buf1) # получили массив байт в 16-чном представлении\n",
    "    hex2 = bytearray.fromhex(buf2)\n",
    "    for i,j in zip(hex1,hex2):\n",
    "        res.append(i^j)\n",
    "    return bytes(res).hex()#после xor  массив десятичных чисел, поэтому их нужно перевести в 16ричную систему\n",
    "\n",
    "# bytes - получение массива байт из массива десятичных чисел (0-255)\n",
    "# hex - получить 16 ричную строку - представление массива байт\n",
    "str1 = '8f29336f5e9af0919634f474d248addaf89f6e1f533752f52de2dae0ec3185f818c0892fdc873a69'\n",
    "str2 = 'bf7962a3c4e6313b134229e31c0219767ff59b88584a303010ab83650a3b1763e5b314c2f1e2f166'\n",
    "\n",
    "\n",
    "arr =xor(str1,str2) \n",
    "print(arr)"
   ]
  },
  {
   "cell_type": "markdown",
   "metadata": {},
   "source": [
    "### Task 3\n",
    "№ 20"
   ]
  },
  {
   "cell_type": "code",
   "execution_count": 3,
   "metadata": {},
   "outputs": [
    {
     "data": {
      "text/plain": [
       "5"
      ]
     },
     "execution_count": 3,
     "metadata": {},
     "output_type": "execute_result"
    }
   ],
   "source": [
    "20 % 15"
   ]
  },
  {
   "cell_type": "markdown",
   "metadata": {},
   "source": [
    "Строка с номером 5:\n",
    "191f1911160b0c580c101d581d0e1114583f1914191b0c111b583d1508110a1d56"
   ]
  },
  {
   "cell_type": "code",
   "execution_count": 14,
   "metadata": {},
   "outputs": [
    {
     "name": "stdout",
     "output_type": "stream",
     "text": [
      "98.99899999999998 p\n"
     ]
    },
    {
     "data": {
      "text/plain": [
       "['i',\n",
       " 'o',\n",
       " 'i',\n",
       " 'a',\n",
       " 'f',\n",
       " '{',\n",
       " '|',\n",
       " '(',\n",
       " '|',\n",
       " '`',\n",
       " 'm',\n",
       " '(',\n",
       " 'm',\n",
       " '~',\n",
       " 'a',\n",
       " 'd',\n",
       " '(',\n",
       " 'O',\n",
       " 'i',\n",
       " 'd',\n",
       " 'i',\n",
       " 'k',\n",
       " '|',\n",
       " 'a',\n",
       " 'k',\n",
       " '(',\n",
       " 'M',\n",
       " 'e',\n",
       " 'x',\n",
       " 'a',\n",
       " 'z',\n",
       " 'm',\n",
       " '&']"
      ]
     },
     "execution_count": 14,
     "metadata": {},
     "output_type": "execute_result"
    }
   ],
   "source": [
    "import string as st\n",
    "from pprint import pprint \n",
    "freq = [ 8.167, 1.492, 2.782, 4.253, \n",
    "        12.702, 2.228, 2.015, 6.094, \n",
    "        6.966, 0.153, 0.772, 4.025, \n",
    "        2.406, 6.749, 7.507, 1.929, \n",
    "        0.095, 5.987, 6.327, 9.056, \n",
    "        2.758, 0.978, 2.360, 0.150, \n",
    "        1.974, 0.074 ]\n",
    "true_freq = {x:y for x,y in zip(st.ascii_lowercase,freq)}\n",
    "\n",
    "keys = st.ascii_lowercase\n",
    "string = '191f1911160b0c580c101d581d0e1114583f1914191b0c111b583d1508110a1d56'\n",
    "hex_str = bytearray.fromhex(string)\n",
    "\n",
    "def xor_one(char, string):\n",
    "    arr=[]\n",
    "    for i in string:\n",
    "        arr.append(chr(ord(char)^i))\n",
    "    return arr\n",
    "\n",
    "\n",
    "def get_freq_dict(string):\n",
    "    arr = {x:y for x,y in zip(st.ascii_lowercase,[0 for _ in range(26)])}\n",
    "    for char in keys:\n",
    "        i = 0\n",
    "        for s in string:\n",
    "            if (s.lower()==char):\n",
    "                i+=1\n",
    "        arr[char] = (i/len([x for x in string if x in st.ascii_letters ]))   #TODO len(str) - bad estimate\n",
    "    return arr \n",
    "\n",
    "\n",
    "\n",
    "def get_estimate(freq_dict):\n",
    "    s=0\n",
    "    for key in freq_dict:\n",
    "        s+=abs(true_freq[key]-freq_dict[key])\n",
    "    return s \n",
    "    \n",
    "arr =[]\n",
    "m = 100000\n",
    "res = 0\n",
    "for key in keys:\n",
    "    if get_estimate(get_freq_dict(xor_one(key,hex_str)))< m:\n",
    "        m =get_estimate(get_freq_dict(xor_one(key,hex_str)))\n",
    "        res = key\n",
    "print(m,res)\n",
    "        \n",
    "                        \n",
    "xor_one(res,hex_str)   "
   ]
  },
  {
   "cell_type": "code",
   "execution_count": null,
   "metadata": {},
   "outputs": [],
   "source": []
  },
  {
   "cell_type": "code",
   "execution_count": null,
   "metadata": {},
   "outputs": [],
   "source": []
  },
  {
   "cell_type": "code",
   "execution_count": null,
   "metadata": {},
   "outputs": [],
   "source": []
  },
  {
   "cell_type": "code",
   "execution_count": null,
   "metadata": {},
   "outputs": [],
   "source": []
  },
  {
   "cell_type": "code",
   "execution_count": null,
   "metadata": {},
   "outputs": [],
   "source": []
  },
  {
   "cell_type": "code",
   "execution_count": null,
   "metadata": {},
   "outputs": [],
   "source": []
  },
  {
   "cell_type": "code",
   "execution_count": null,
   "metadata": {},
   "outputs": [],
   "source": [
    "# freq_for_key = {x:y for x,y in zip(st.ascii_lowercase,[0 for _ in range(26)])}\n",
    "# for char in st.ascii_lowercase:\n",
    "#     freq_for_key[char] = get_freq(xor_one(char, string))\n",
    "    \n",
    "\n",
    "\n",
    "# for char in st.ascii_lowercase:\n",
    "#     buf = {x:y for x,y in zip(st.ascii_lowercase,[0 for _ in range(26)])}\n",
    "#     for i in buf.keys():\n",
    "#         buf[i] = abs(freq[i] - freq_for_key[char][i])\n",
    "#     errors[char] = buf\n",
    "\n",
    "\n",
    "\n",
    "\n",
    "# get sum for estimates\n",
    "\n",
    "# for char in errors:\n",
    "#     sum = 0\n",
    "#     for i in errors[char].values():\n",
    "#         sum+=i\n",
    "#     errors[char]=sum   \n",
    "    \n",
    "# m = 1000000\n",
    "# res = 0\n",
    "\n",
    "# for char in errors:\n",
    "#     if errors[char]<m:\n",
    "#         m = errors[char]\n",
    "#         res = char\n",
    "        \n",
    "# print(res,m)\n",
    "\n",
    "\n",
    "# xor_one('w',string)"
   ]
  }
 ],
 "metadata": {
  "kernelspec": {
   "display_name": "Python 3",
   "language": "python",
   "name": "python3"
  },
  "language_info": {
   "codemirror_mode": {
    "name": "ipython",
    "version": 3
   },
   "file_extension": ".py",
   "mimetype": "text/x-python",
   "name": "python",
   "nbconvert_exporter": "python",
   "pygments_lexer": "ipython3",
   "version": "3.5.2"
  }
 },
 "nbformat": 4,
 "nbformat_minor": 2
}
