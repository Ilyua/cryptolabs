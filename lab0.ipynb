{
 "cells": [
  {
   "cell_type": "markdown",
   "metadata": {},
   "source": [
    "### Task 1"
   ]
  },
  {
   "cell_type": "code",
   "execution_count": 1,
   "metadata": {},
   "outputs": [
    {
     "name": "stdout",
     "output_type": "stream",
     "text": [
      "our input faea8766efd8b295a633908a3c0828b22640e1e9122c3c9cfb7b59b7cf3c9d448bf04d72cde3aaa0\n",
      "hex string b'\\xfa\\xea\\x87f\\xef\\xd8\\xb2\\x95\\xa63\\x90\\x8a<\\x08(\\xb2&@\\xe1\\xe9\\x12,<\\x9c\\xfb{Y\\xb7\\xcf<\\x9dD\\x8b\\xf0Mr\\xcd\\xe3\\xaa\\xa0'\n",
      "after encoding +uqHZu/YspWmM5CKPAgosiZA4ekSLDyc+3tZt888nUSL8E1yzeOqoA==\n",
      "\n"
     ]
    }
   ],
   "source": [
    "input = 'faea8766efd8b295a633908a3c0828b22640e1e9122c3c9cfb7b59b7cf3c9d448bf04d72cde3aaa0'\n",
    "print(\"our input\",input)\n",
    "import codecs\n",
    "hex0 = codecs.decode(input, 'hex')\n",
    "print(\"hex string\",hex0) #Выполнили кодирование в 16-ое представление для работы с функциями python \n",
    "b64 = codecs.encode(hex0, 'base64')\n",
    "print(\"after encoding\",b64.decode()) # результат \n",
    "\n"
   ]
  },
  {
   "cell_type": "markdown",
   "metadata": {},
   "source": [
    "### Task 2"
   ]
  },
  {
   "cell_type": "code",
   "execution_count": 2,
   "metadata": {},
   "outputs": [
    {
     "name": "stdout",
     "output_type": "stream",
     "text": [
      "305051cc9a7cc1aa8576dd97ce4ab4ac876af5970b7d62c53d495985e60a929bfd739ded2d65cb0f\n"
     ]
    }
   ],
   "source": [
    "def xor(buf1,buf2):\n",
    "    res= []\n",
    "    hex1 = bytearray.fromhex(buf1) # получили массив байт в 16-чном представлении\n",
    "    hex2 = bytearray.fromhex(buf2)\n",
    "    for i,j in zip(hex1,hex2):\n",
    "        res.append(i^j)\n",
    "    return bytes(res).hex()#после xor  массив десятичных чисел, поэтому их нужно перевести в 16ричную систему\n",
    "\n",
    "# bytes - получение массива байт из массива десятичных чисел (0-255)\n",
    "# hex - получить 16 ричную строку - представление массива байт\n",
    "str1 = '8f29336f5e9af0919634f474d248addaf89f6e1f533752f52de2dae0ec3185f818c0892fdc873a69'\n",
    "str2 = 'bf7962a3c4e6313b134229e31c0219767ff59b88584a303010ab83650a3b1763e5b314c2f1e2f166'\n",
    "\n",
    "\n",
    "arr =xor(str1,str2) \n",
    "print(arr)"
   ]
  },
  {
   "cell_type": "markdown",
   "metadata": {},
   "source": [
    "### Task 3\n",
    "№ 20"
   ]
  },
  {
   "cell_type": "code",
   "execution_count": 3,
   "metadata": {},
   "outputs": [
    {
     "data": {
      "text/plain": [
       "5"
      ]
     },
     "execution_count": 3,
     "metadata": {},
     "output_type": "execute_result"
    }
   ],
   "source": [
    "20 % 15"
   ]
  },
  {
   "cell_type": "markdown",
   "metadata": {},
   "source": [
    "Строка с номером 5:\n",
    "191f1911160b0c580c101d581d0e1114583f1914191b0c111b583d1508110a1d56"
   ]
  },
  {
   "cell_type": "code",
   "execution_count": 4,
   "metadata": {},
   "outputs": [
    {
     "name": "stdout",
     "output_type": "stream",
     "text": [
      "r --- kmkcdy~*~bo*o|cf*Mkfki~ci*Ogzcxo$\n",
      "z --- cecklqv\"vjg\"gtkn\"Ecncavka\"Gorkpg,\n",
      "x --- against the evil Galactic Empire.\n",
      "u --- ljldc~y-yeh-h{da-Jlalnydn-H`}dh#\n",
      "d --- }{}uroh<hty<yjup<[}p}hu<Yqluny2\n",
      "t --- mkmebx,xdi,ize`,Km`moxeo,Ia|e~i\"\n",
      "q --- hnh`gz})}al)l`e)Nhehj}`j)Ldy`{l'\n",
      "p --- ioiaf{|(|`m(m~ad(Oidik|ak(Mexazm&\n",
      "o --- vpv~ydc7cr7ra~{7Pv{vtc~t7Rzg~er9\n",
      "y --- `f`horu!uid!dwhm!F`m`buhb!Dlqhsd/\n",
      "m --- trt|{fa5a}p5pc|y5Rtytva|v5Pxe|gp;\n",
      "b --- {}{stin:nr:lsv:]{v{ynsy:_wjsh4\n"
     ]
    }
   ],
   "source": [
    "import string as st\n",
    "from pprint import pprint \n",
    "import pandas as pd\n",
    "import numpy as np\n",
    "\n",
    "freq = [ 8.167, 1.492, 2.782, 4.253, \n",
    "        12.702, 2.228, 2.015, 6.094, \n",
    "        6.966, 0.153, 0.772, 4.025, \n",
    "        2.406, 6.749, 7.507, 1.929, \n",
    "        0.095, 5.987, 6.327, 9.056, \n",
    "        2.758, 0.978, 2.360, 0.150, \n",
    "        1.974, 0.074 ]\n",
    "true_freq = {x:y for x,y in zip(st.ascii_lowercase,freq)}\n",
    "\n",
    "keys = st.ascii_lowercase\n",
    "string = '191f1911160b0c580c101d581d0e1114583f1914191b0c111b583d1508110a1d56'\n",
    "hex_str = bytearray.fromhex(string)\n",
    "\n",
    "def xor_one(char, bytess):\n",
    "    arr=[]\n",
    "    for i in bytess:\n",
    "#         print(i,ord(char),chr(ord(char)^i))\n",
    "        arr.append(chr(ord(char)^i))\n",
    "    return arr\n",
    "\n",
    "\n",
    "def get_freq_dict(string):\n",
    "    arr = {x:y for x,y in zip(st.ascii_lowercase,[0 for _ in range(26)])}\n",
    "    for char in keys:\n",
    "        i = 0\n",
    "        for s in string:\n",
    "            if (s.lower()==char):\n",
    "                i+=1\n",
    "        try:\n",
    "            arr[char] = (i/len([x for x in string if x in st.ascii_letters ]))   \n",
    "        except:\n",
    "            arr[char] = 10000\n",
    "    return arr \n",
    "\n",
    "\n",
    "\n",
    "def get_estimate(freq_dict):\n",
    "    s=0\n",
    "    for key in freq_dict:\n",
    "       \n",
    "        s+=abs(true_freq[key]-freq_dict[key])\n",
    "    return s \n",
    "    \n",
    "\n",
    "\n",
    "df = pd.DataFrame(columns=['key','estimate'])\n",
    "\n",
    "for key in keys:\n",
    "    df.loc[len(df)]=[key,get_estimate(get_freq_dict(xor_one(key,hex_str)))] \n",
    "   \n",
    "    \n",
    "df.sort_values('estimate',inplace=True)\n",
    "df.reset_index(drop=True,inplace=True)\n",
    "\n",
    "\n",
    "def f(item):\n",
    "    if abs(item-df['estimate'][0])>=0.005:\n",
    "        return None \n",
    "    else:\n",
    "        return item \n",
    "        \n",
    "df['estimate'] = df['estimate'].apply(f)\n",
    "df.dropna(inplace=True)\n",
    "\n",
    "for key in df['key']:\n",
    "    print(key,'---' ,''.join(xor_one(key,hex_str)))\n",
    "    #ответ - х"
   ]
  },
  {
   "cell_type": "markdown",
   "metadata": {},
   "source": [
    "### Task 4"
   ]
  },
  {
   "cell_type": "code",
   "execution_count": 6,
   "metadata": {},
   "outputs": [],
   "source": [
    "with open('/home/ilyua/cryptolabs/Lab0_app/Lab0_Tasks/detectSingleCHXor_tasks/detectSingleXor05') as file:\n",
    "    for line in file:\n",
    "        h = bytearray.fromhex(line.strip())\n",
    "        for key in keys:            \n",
    "            df.loc[len(df)]=[key,get_estimate(get_freq_dict(xor_one(key,hex_str)))] \n",
    "            df.sort_values('estimate',inplace=True)\n",
    "            df.reset_index(drop=True,inplace=True)\n",
    "            df['estimate'] = df['estimate'].apply(f)\n",
    "            df.dropna(inplace=True)\n",
    "            print('#############################')\n",
    "            for key in df['key']:\n",
    "        print(key,'---' ,''.join(xor_one(key,hex_str)))\n",
    "df            "
   ]
  },
  {
   "cell_type": "code",
   "execution_count": null,
   "metadata": {},
   "outputs": [],
   "source": [
    "\n"
   ]
  },
  {
   "cell_type": "code",
   "execution_count": null,
   "metadata": {},
   "outputs": [],
   "source": []
  }
 ],
 "metadata": {
  "kernelspec": {
   "display_name": "Python 3",
   "language": "python",
   "name": "python3"
  },
  "language_info": {
   "codemirror_mode": {
    "name": "ipython",
    "version": 3
   },
   "file_extension": ".py",
   "mimetype": "text/x-python",
   "name": "python",
   "nbconvert_exporter": "python",
   "pygments_lexer": "ipython3",
   "version": "3.5.2"
  }
 },
 "nbformat": 4,
 "nbformat_minor": 2
}
